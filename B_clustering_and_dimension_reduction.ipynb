{
 "cells": [
  {
   "cell_type": "markdown",
   "metadata": {},
   "source": [
    "# Notebook B: Clustering and Dimension Reduction\n",
    "In this notebook, we explore the application of dimension reduction techniques on the [Wine dataset](https://archive.ics.uci.edu/dataset/109/wine), a classic dataset in machine learning. We will standardize the dataset, apply KMeans clustering, and visualizing the results with principal component analysis (PCA) and t-distributed Stochastic Neighbor Embedding (t-SNE). Additionally, we will introduce Linear Discriminant Analysis (LDA) as another dimension reduction technique to compare its effectiveness against PCA and t-SNE. This exercise aims to provide insights into the dataset's structure and the distinct groups within the wine samples."
   ]
  },
  {
   "cell_type": "markdown",
   "metadata": {},
   "source": [
    "### Setup imports"
   ]
  },
  {
   "cell_type": "code",
   "execution_count": null,
   "metadata": {},
   "outputs": [],
   "source": []
  },
  {
   "cell_type": "markdown",
   "metadata": {},
   "source": [
    "### Load data set\n",
    "Use the `sklearn.datasets.load_wine()` function to load the Wine dataset. Convert it into a pandas DataFrame for easier manipulation and visualization. Add a column to the data frame for the target."
   ]
  },
  {
   "cell_type": "code",
   "execution_count": null,
   "metadata": {},
   "outputs": [],
   "source": []
  },
  {
   "cell_type": "markdown",
   "metadata": {},
   "source": [
    "### Data Preprocessing\n",
    "Standardize the features of the Wine dataset using the standard scaler. "
   ]
  },
  {
   "cell_type": "code",
   "execution_count": null,
   "metadata": {},
   "outputs": [],
   "source": []
  },
  {
   "cell_type": "markdown",
   "metadata": {},
   "source": [
    "### Exploratory Data Analysis\n",
    "Perform exploratory data analysis on the Wine dataset. Visualize the distribution of a couple of the alcohol content and malic acid content using histograms."
   ]
  },
  {
   "cell_type": "code",
   "execution_count": null,
   "metadata": {},
   "outputs": [],
   "source": []
  },
  {
   "cell_type": "markdown",
   "metadata": {},
   "source": [
    "### Clustering with KMeans\n",
    "Apply KMeans clustering on the standardized features of the Wine dataset. Use three clusters to separate the data and random state = 42. Add a column to the `wine_df` for the Kmeans cluster each point is in."
   ]
  },
  {
   "cell_type": "code",
   "execution_count": null,
   "metadata": {},
   "outputs": [],
   "source": []
  },
  {
   "cell_type": "markdown",
   "metadata": {},
   "source": [
    "### Dimension Reduction with PCA\n",
    "Apply PCA on the standardized Wine dataset to reduce its dimensions. Visualize the data in the first two principal components and color the points by their KMeans cluster. How well do the PCA components represent the clusters?"
   ]
  },
  {
   "cell_type": "code",
   "execution_count": null,
   "metadata": {},
   "outputs": [],
   "source": []
  },
  {
   "cell_type": "markdown",
   "metadata": {},
   "source": [
    "### t-SNE Visualization\n",
    "Now apply t-SNE to the standardized Wine dataset and visualize the result using random_state = 42. Color the points based on their labels from the target column. How does the t-SNE visualization compare to the PCA visualization in terms of cluster separation?"
   ]
  },
  {
   "cell_type": "code",
   "execution_count": null,
   "metadata": {},
   "outputs": [],
   "source": []
  },
  {
   "cell_type": "markdown",
   "metadata": {},
   "source": [
    "### Dimension Reduction with LDA\n",
    "\n",
    "Linear Discriminant Analysis (LDA) is a technique used to reduce dimensions of the dataset while preserving as much class discriminatory information as possible. Unlike PCA, which does not consider the class labels when finding the principal components, LDA aims to provide the best class separability. Let's apply LDA to the Wine dataset and observe how it compares with PCA in terms of class separation.\n",
    "\n",
    "Then create a plot with LDA clusters where the points are colored based on the `wine_df` target column"
   ]
  },
  {
   "cell_type": "code",
   "execution_count": null,
   "metadata": {},
   "outputs": [],
   "source": []
  },
  {
   "cell_type": "markdown",
   "metadata": {},
   "source": [
    "### End of Notebook A"
   ]
  }
 ],
 "metadata": {
  "kernelspec": {
   "display_name": "venv",
   "language": "python",
   "name": "python3"
  },
  "language_info": {
   "codemirror_mode": {
    "name": "ipython",
    "version": 3
   },
   "file_extension": ".py",
   "mimetype": "text/x-python",
   "name": "python",
   "nbconvert_exporter": "python",
   "pygments_lexer": "ipython3",
   "version": "3.10.2"
  }
 },
 "nbformat": 4,
 "nbformat_minor": 2
}
