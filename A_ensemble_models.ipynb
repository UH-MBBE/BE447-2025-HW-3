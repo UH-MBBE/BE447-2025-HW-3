{
  "cells": [
    {
      "cell_type": "markdown",
      "metadata": {},
      "source": [
        "# Notebook A: Ensemble Models\n",
        "\n",
        "Use this notebook to go through the process of using ensemble models to predict heart disease. Load the [Cleveland heart disease dataset](https://archive.ics.uci.edu/dataset/45/heart+disease), preprocess the data, perform a train-test split, and use a grid search to find the best parameters for a bagging classifier and an adaboost classifier.\n"
      ]
    },
    {
      "cell_type": "markdown",
      "metadata": {},
      "source": [
        "### Setup imports"
      ]
    },
    {
      "cell_type": "code",
      "execution_count": null,
      "metadata": {},
      "outputs": [],
      "source": []
    },
    {
      "cell_type": "markdown",
      "metadata": {},
      "source": [
        "### Load data"
      ]
    },
    {
      "cell_type": "code",
      "execution_count": null,
      "metadata": {},
      "outputs": [],
      "source": []
    },
    {
      "cell_type": "code",
      "execution_count": null,
      "metadata": {},
      "outputs": [],
      "source": [
        "assert not cleveland_df.empty, \"DataFrame is empty\"\n",
        "assert cleveland_df.shape == (303, 14), \"DataFrame has incorrect number of columns\""
      ]
    },
    {
      "cell_type": "markdown",
      "metadata": {},
      "source": [
        "### Proprocess data\n",
        "Remove the rows that have question marks in them"
      ]
    },
    {
      "cell_type": "code",
      "execution_count": null,
      "metadata": {},
      "outputs": [],
      "source": []
    },
    {
      "cell_type": "code",
      "execution_count": null,
      "metadata": {},
      "outputs": [],
      "source": [
        "assert cleveland_df.shape == (297, 14), \"DataFrame has incorrect number of columns\""
      ]
    },
    {
      "cell_type": "markdown",
      "metadata": {},
      "source": [
        "### Train-Test Split\n",
        "Use 80% of the data for training data, and set the random state to 42."
      ]
    },
    {
      "cell_type": "code",
      "execution_count": null,
      "metadata": {},
      "outputs": [],
      "source": []
    },
    {
      "cell_type": "code",
      "execution_count": null,
      "metadata": {},
      "outputs": [],
      "source": [
        "# Ensure that the split was successful\n",
        "assert X_train.shape[0] > 0 and X_test.shape[0] > 0, \"Something went wrong in train-test split.\""
      ]
    },
    {
      "cell_type": "markdown",
      "metadata": {},
      "source": [
        "### Bagging Model Training\n",
        "First, define a bagging classifier that uses KNeighbors classifier as the base estimator, and has random_state=42.\n",
        "\n",
        "Then, use a grid search, with five fold cross validation, to find the best parameters for the bagging classifier.\n",
        "\n",
        "Use accuracy for scoring the parameter combinations, and use this parameter grid:\n",
        "\n",
        "```python\n",
        "param_grid = {\n",
        "    'n_estimators': [50, 100, 200],\n",
        "    'max_samples': [0.5, 0.75, 1.0], \n",
        "    'max_features': [0.5, 0.75, 1.0] \n",
        "}\n",
        "```\n",
        "\n"
      ]
    },
    {
      "cell_type": "code",
      "execution_count": null,
      "metadata": {},
      "outputs": [],
      "source": []
    },
    {
      "cell_type": "code",
      "execution_count": null,
      "metadata": {},
      "outputs": [],
      "source": [
        "assert bagging_grid_search.best_params_ == {'max_features': 0.5, 'max_samples': 0.75, 'n_estimators': 50}, \"Incorrect best parameters\"\n",
        "assert bagging_grid_search.best_score_ > 0.560 and bagging_grid_search.best_score_ < 0.561, \"Incorrect best score\""
      ]
    },
    {
      "cell_type": "markdown",
      "metadata": {},
      "source": [
        "### AdaBoost Model Training\n",
        "First, define a adaboost classifier that uses the decision tree classifier as the base estimator (the default behavior), and has random_state=42.\n",
        "\n",
        "Then, use a grid search, with five fold cross validation, to find the best parameters for the adaboost classifier. \n",
        "\n",
        "Use this parameter grid:\n",
        "\n",
        "```python\n",
        "param_grid = {\n",
        "    'n_estimators': [50, 100, 200],\n",
        "    'learning_rate': [0.01, 0.1, 1.0]\n",
        "}\n",
        "```\n",
        "\n",
        "There may be warnings. You can ignore these.\n"
      ]
    },
    {
      "cell_type": "code",
      "execution_count": null,
      "metadata": {},
      "outputs": [],
      "source": []
    },
    {
      "cell_type": "code",
      "execution_count": null,
      "metadata": {},
      "outputs": [],
      "source": [
        "assert ada_grid_search.best_params_ == {'learning_rate': 0.01, 'n_estimators': 100}, \"Incorrect best parameters\"\n",
        "assert ada_grid_search.best_score_ > 0.579 and ada_grid_search.best_score_ < 0.580, \"Incorrect best score\""
      ]
    }
  ],
  "metadata": {
    "kernelspec": {
      "display_name": "venv",
      "language": "python",
      "name": "python3"
    },
    "language_info": {
      "codemirror_mode": {
        "name": "ipython",
        "version": 3
      },
      "file_extension": ".py",
      "mimetype": "text/x-python",
      "name": "python",
      "nbconvert_exporter": "python",
      "pygments_lexer": "ipython3",
      "version": "3.10.2"
    }
  },
  "nbformat": 4,
  "nbformat_minor": 2
}
